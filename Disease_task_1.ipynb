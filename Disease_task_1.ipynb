{
  "nbformat": 4,
  "nbformat_minor": 0,
  "metadata": {
    "colab": {
      "provenance": [],
      "gpuType": "T4",
      "authorship_tag": "ABX9TyPxuRZk4ZcSsv9dYIjcrhOx",
      "include_colab_link": true
    },
    "kernelspec": {
      "name": "python3",
      "display_name": "Python 3"
    },
    "language_info": {
      "name": "python"
    },
    "accelerator": "GPU"
  },
  "cells": [
    {
      "cell_type": "markdown",
      "metadata": {
        "id": "view-in-github",
        "colab_type": "text"
      },
      "source": [
        "<a href=\"https://colab.research.google.com/github/BaidyaSubhadip/turantlo_task/blob/main/Disease_task_1.ipynb\" target=\"_parent\"><img src=\"https://colab.research.google.com/assets/colab-badge.svg\" alt=\"Open In Colab\"/></a>"
      ]
    },
    {
      "cell_type": "code",
      "execution_count": 1,
      "metadata": {
        "id": "ODqw9hwXTSNT"
      },
      "outputs": [],
      "source": [
        "import numpy as np\n",
        "import pandas as pd\n",
        "import matplotlib.pyplot as plt\n",
        "import warnings\n",
        "warnings.filterwarnings('ignore')"
      ]
    },
    {
      "cell_type": "code",
      "source": [
        "data = pd.read_csv('data.csv')"
      ],
      "metadata": {
        "id": "gtYfPxOwTjs_"
      },
      "execution_count": 2,
      "outputs": []
    },
    {
      "cell_type": "code",
      "source": [
        "data.head(5)"
      ],
      "metadata": {
        "colab": {
          "base_uri": "https://localhost:8080/",
          "height": 206
        },
        "id": "9sAlegb7Tqsm",
        "outputId": "b5ddaf5c-ab61-4870-c2fa-e1fe3b467fa4"
      },
      "execution_count": 3,
      "outputs": [
        {
          "output_type": "execute_result",
          "data": {
            "text/plain": [
              "                Disease_Name  \\\n",
              "0           Aarskog syndrome   \n",
              "1              Aase syndrome   \n",
              "2  Abdominal aortic aneurysm   \n",
              "3  Abnormal uterine bleeding   \n",
              "4        ABO incompatibility   \n",
              "\n",
              "                                        Symptom_List  \n",
              "0  ['Mildly sunken chest (pectus excavatum) ', ' ...  \n",
              "1  ['Narrow shoulders ', ' Droopy eyelids ', ' Ab...  \n",
              "2  ['Passing out. ', ' Dizziness. ', ' Pain in th...  \n",
              "3  ['Tenderness and dryness of the vagina ', ' He...  \n",
              "4  ['Feeling of \"impending doom\" ', ' Chest pain ...  "
            ],
            "text/html": [
              "\n",
              "  <div id=\"df-909dc5bf-37b8-4924-bb3c-a0803a187eb3\" class=\"colab-df-container\">\n",
              "    <div>\n",
              "<style scoped>\n",
              "    .dataframe tbody tr th:only-of-type {\n",
              "        vertical-align: middle;\n",
              "    }\n",
              "\n",
              "    .dataframe tbody tr th {\n",
              "        vertical-align: top;\n",
              "    }\n",
              "\n",
              "    .dataframe thead th {\n",
              "        text-align: right;\n",
              "    }\n",
              "</style>\n",
              "<table border=\"1\" class=\"dataframe\">\n",
              "  <thead>\n",
              "    <tr style=\"text-align: right;\">\n",
              "      <th></th>\n",
              "      <th>Disease_Name</th>\n",
              "      <th>Symptom_List</th>\n",
              "    </tr>\n",
              "  </thead>\n",
              "  <tbody>\n",
              "    <tr>\n",
              "      <th>0</th>\n",
              "      <td>Aarskog syndrome</td>\n",
              "      <td>['Mildly sunken chest (pectus excavatum) ', ' ...</td>\n",
              "    </tr>\n",
              "    <tr>\n",
              "      <th>1</th>\n",
              "      <td>Aase syndrome</td>\n",
              "      <td>['Narrow shoulders ', ' Droopy eyelids ', ' Ab...</td>\n",
              "    </tr>\n",
              "    <tr>\n",
              "      <th>2</th>\n",
              "      <td>Abdominal aortic aneurysm</td>\n",
              "      <td>['Passing out. ', ' Dizziness. ', ' Pain in th...</td>\n",
              "    </tr>\n",
              "    <tr>\n",
              "      <th>3</th>\n",
              "      <td>Abnormal uterine bleeding</td>\n",
              "      <td>['Tenderness and dryness of the vagina ', ' He...</td>\n",
              "    </tr>\n",
              "    <tr>\n",
              "      <th>4</th>\n",
              "      <td>ABO incompatibility</td>\n",
              "      <td>['Feeling of \"impending doom\" ', ' Chest pain ...</td>\n",
              "    </tr>\n",
              "  </tbody>\n",
              "</table>\n",
              "</div>\n",
              "    <div class=\"colab-df-buttons\">\n",
              "\n",
              "  <div class=\"colab-df-container\">\n",
              "    <button class=\"colab-df-convert\" onclick=\"convertToInteractive('df-909dc5bf-37b8-4924-bb3c-a0803a187eb3')\"\n",
              "            title=\"Convert this dataframe to an interactive table.\"\n",
              "            style=\"display:none;\">\n",
              "\n",
              "  <svg xmlns=\"http://www.w3.org/2000/svg\" height=\"24px\" viewBox=\"0 -960 960 960\">\n",
              "    <path d=\"M120-120v-720h720v720H120Zm60-500h600v-160H180v160Zm220 220h160v-160H400v160Zm0 220h160v-160H400v160ZM180-400h160v-160H180v160Zm440 0h160v-160H620v160ZM180-180h160v-160H180v160Zm440 0h160v-160H620v160Z\"/>\n",
              "  </svg>\n",
              "    </button>\n",
              "\n",
              "  <style>\n",
              "    .colab-df-container {\n",
              "      display:flex;\n",
              "      gap: 12px;\n",
              "    }\n",
              "\n",
              "    .colab-df-convert {\n",
              "      background-color: #E8F0FE;\n",
              "      border: none;\n",
              "      border-radius: 50%;\n",
              "      cursor: pointer;\n",
              "      display: none;\n",
              "      fill: #1967D2;\n",
              "      height: 32px;\n",
              "      padding: 0 0 0 0;\n",
              "      width: 32px;\n",
              "    }\n",
              "\n",
              "    .colab-df-convert:hover {\n",
              "      background-color: #E2EBFA;\n",
              "      box-shadow: 0px 1px 2px rgba(60, 64, 67, 0.3), 0px 1px 3px 1px rgba(60, 64, 67, 0.15);\n",
              "      fill: #174EA6;\n",
              "    }\n",
              "\n",
              "    .colab-df-buttons div {\n",
              "      margin-bottom: 4px;\n",
              "    }\n",
              "\n",
              "    [theme=dark] .colab-df-convert {\n",
              "      background-color: #3B4455;\n",
              "      fill: #D2E3FC;\n",
              "    }\n",
              "\n",
              "    [theme=dark] .colab-df-convert:hover {\n",
              "      background-color: #434B5C;\n",
              "      box-shadow: 0px 1px 3px 1px rgba(0, 0, 0, 0.15);\n",
              "      filter: drop-shadow(0px 1px 2px rgba(0, 0, 0, 0.3));\n",
              "      fill: #FFFFFF;\n",
              "    }\n",
              "  </style>\n",
              "\n",
              "    <script>\n",
              "      const buttonEl =\n",
              "        document.querySelector('#df-909dc5bf-37b8-4924-bb3c-a0803a187eb3 button.colab-df-convert');\n",
              "      buttonEl.style.display =\n",
              "        google.colab.kernel.accessAllowed ? 'block' : 'none';\n",
              "\n",
              "      async function convertToInteractive(key) {\n",
              "        const element = document.querySelector('#df-909dc5bf-37b8-4924-bb3c-a0803a187eb3');\n",
              "        const dataTable =\n",
              "          await google.colab.kernel.invokeFunction('convertToInteractive',\n",
              "                                                    [key], {});\n",
              "        if (!dataTable) return;\n",
              "\n",
              "        const docLinkHtml = 'Like what you see? Visit the ' +\n",
              "          '<a target=\"_blank\" href=https://colab.research.google.com/notebooks/data_table.ipynb>data table notebook</a>'\n",
              "          + ' to learn more about interactive tables.';\n",
              "        element.innerHTML = '';\n",
              "        dataTable['output_type'] = 'display_data';\n",
              "        await google.colab.output.renderOutput(dataTable, element);\n",
              "        const docLink = document.createElement('div');\n",
              "        docLink.innerHTML = docLinkHtml;\n",
              "        element.appendChild(docLink);\n",
              "      }\n",
              "    </script>\n",
              "  </div>\n",
              "\n",
              "\n",
              "<div id=\"df-a0404fe3-ca6c-4192-bdec-1348660d9318\">\n",
              "  <button class=\"colab-df-quickchart\" onclick=\"quickchart('df-a0404fe3-ca6c-4192-bdec-1348660d9318')\"\n",
              "            title=\"Suggest charts\"\n",
              "            style=\"display:none;\">\n",
              "\n",
              "<svg xmlns=\"http://www.w3.org/2000/svg\" height=\"24px\"viewBox=\"0 0 24 24\"\n",
              "     width=\"24px\">\n",
              "    <g>\n",
              "        <path d=\"M19 3H5c-1.1 0-2 .9-2 2v14c0 1.1.9 2 2 2h14c1.1 0 2-.9 2-2V5c0-1.1-.9-2-2-2zM9 17H7v-7h2v7zm4 0h-2V7h2v10zm4 0h-2v-4h2v4z\"/>\n",
              "    </g>\n",
              "</svg>\n",
              "  </button>\n",
              "\n",
              "<style>\n",
              "  .colab-df-quickchart {\n",
              "      --bg-color: #E8F0FE;\n",
              "      --fill-color: #1967D2;\n",
              "      --hover-bg-color: #E2EBFA;\n",
              "      --hover-fill-color: #174EA6;\n",
              "      --disabled-fill-color: #AAA;\n",
              "      --disabled-bg-color: #DDD;\n",
              "  }\n",
              "\n",
              "  [theme=dark] .colab-df-quickchart {\n",
              "      --bg-color: #3B4455;\n",
              "      --fill-color: #D2E3FC;\n",
              "      --hover-bg-color: #434B5C;\n",
              "      --hover-fill-color: #FFFFFF;\n",
              "      --disabled-bg-color: #3B4455;\n",
              "      --disabled-fill-color: #666;\n",
              "  }\n",
              "\n",
              "  .colab-df-quickchart {\n",
              "    background-color: var(--bg-color);\n",
              "    border: none;\n",
              "    border-radius: 50%;\n",
              "    cursor: pointer;\n",
              "    display: none;\n",
              "    fill: var(--fill-color);\n",
              "    height: 32px;\n",
              "    padding: 0;\n",
              "    width: 32px;\n",
              "  }\n",
              "\n",
              "  .colab-df-quickchart:hover {\n",
              "    background-color: var(--hover-bg-color);\n",
              "    box-shadow: 0 1px 2px rgba(60, 64, 67, 0.3), 0 1px 3px 1px rgba(60, 64, 67, 0.15);\n",
              "    fill: var(--button-hover-fill-color);\n",
              "  }\n",
              "\n",
              "  .colab-df-quickchart-complete:disabled,\n",
              "  .colab-df-quickchart-complete:disabled:hover {\n",
              "    background-color: var(--disabled-bg-color);\n",
              "    fill: var(--disabled-fill-color);\n",
              "    box-shadow: none;\n",
              "  }\n",
              "\n",
              "  .colab-df-spinner {\n",
              "    border: 2px solid var(--fill-color);\n",
              "    border-color: transparent;\n",
              "    border-bottom-color: var(--fill-color);\n",
              "    animation:\n",
              "      spin 1s steps(1) infinite;\n",
              "  }\n",
              "\n",
              "  @keyframes spin {\n",
              "    0% {\n",
              "      border-color: transparent;\n",
              "      border-bottom-color: var(--fill-color);\n",
              "      border-left-color: var(--fill-color);\n",
              "    }\n",
              "    20% {\n",
              "      border-color: transparent;\n",
              "      border-left-color: var(--fill-color);\n",
              "      border-top-color: var(--fill-color);\n",
              "    }\n",
              "    30% {\n",
              "      border-color: transparent;\n",
              "      border-left-color: var(--fill-color);\n",
              "      border-top-color: var(--fill-color);\n",
              "      border-right-color: var(--fill-color);\n",
              "    }\n",
              "    40% {\n",
              "      border-color: transparent;\n",
              "      border-right-color: var(--fill-color);\n",
              "      border-top-color: var(--fill-color);\n",
              "    }\n",
              "    60% {\n",
              "      border-color: transparent;\n",
              "      border-right-color: var(--fill-color);\n",
              "    }\n",
              "    80% {\n",
              "      border-color: transparent;\n",
              "      border-right-color: var(--fill-color);\n",
              "      border-bottom-color: var(--fill-color);\n",
              "    }\n",
              "    90% {\n",
              "      border-color: transparent;\n",
              "      border-bottom-color: var(--fill-color);\n",
              "    }\n",
              "  }\n",
              "</style>\n",
              "\n",
              "  <script>\n",
              "    async function quickchart(key) {\n",
              "      const quickchartButtonEl =\n",
              "        document.querySelector('#' + key + ' button');\n",
              "      quickchartButtonEl.disabled = true;  // To prevent multiple clicks.\n",
              "      quickchartButtonEl.classList.add('colab-df-spinner');\n",
              "      try {\n",
              "        const charts = await google.colab.kernel.invokeFunction(\n",
              "            'suggestCharts', [key], {});\n",
              "      } catch (error) {\n",
              "        console.error('Error during call to suggestCharts:', error);\n",
              "      }\n",
              "      quickchartButtonEl.classList.remove('colab-df-spinner');\n",
              "      quickchartButtonEl.classList.add('colab-df-quickchart-complete');\n",
              "    }\n",
              "    (() => {\n",
              "      let quickchartButtonEl =\n",
              "        document.querySelector('#df-a0404fe3-ca6c-4192-bdec-1348660d9318 button');\n",
              "      quickchartButtonEl.style.display =\n",
              "        google.colab.kernel.accessAllowed ? 'block' : 'none';\n",
              "    })();\n",
              "  </script>\n",
              "</div>\n",
              "\n",
              "    </div>\n",
              "  </div>\n"
            ],
            "application/vnd.google.colaboratory.intrinsic+json": {
              "type": "dataframe",
              "variable_name": "data",
              "summary": "{\n  \"name\": \"data\",\n  \"rows\": 1713,\n  \"fields\": [\n    {\n      \"column\": \"Disease_Name\",\n      \"properties\": {\n        \"dtype\": \"string\",\n        \"num_unique_values\": 1713,\n        \"samples\": [\n          \"Frozen shoulder\",\n          \"Nonalcoholic fatty liver disease\",\n          \"Urinary tract infection - children\"\n        ],\n        \"semantic_type\": \"\",\n        \"description\": \"\"\n      }\n    },\n    {\n      \"column\": \"Symptom_List\",\n      \"properties\": {\n        \"dtype\": \"string\",\n        \"num_unique_values\": 1700,\n        \"samples\": [\n          \"['Weakness ', ' Pain and swelling of lymph nodes near the area of the sting ', ' Headache ', ' Sweating ', ' Swelling, both at the sting site and throughout the body, especially if the sting is on the skin of the trunk ', ' No heartbeat ', ' Discoloration and blistering, sometimes containing blood ', ' Body cramps and muscle twitching ', ' Salivating and drooling ', ' Severe pain at site of sting ', ' Diarrhea ', ' Fainting ', ' Breathing difficulty ', ' Low blood pressure ', ' Nausea and vomiting ', ' Bleeding ', ' Collapse (shock) ', ' Numbness and tingling ', ' Paralysis ', ' Irregular heartbeat']\",\n          \"['Lie, steal, and fight often ', ' Often be angry or arrogant ', ' Not show guilt or remorse ', ' Have problems with substance abuse ', ' Disregard the safety of self and others ', ' Break the law repeatedly ', ' Be able to act witty and charming ', \\\" Be good at flattery and manipulating other people's emotions\\\"]\",\n          \"['Excessive sweating ', ' Problems swallowing ', ' Fatigue ', ' Breath odor ', ' Seeing food or tube feed material (if being fed artificially) in your sputum ', ' Coughing up foul-smelling, greenish or dark phlegm (sputum), or phlegm that contains pus or blood ', ' Confusion']\"\n        ],\n        \"semantic_type\": \"\",\n        \"description\": \"\"\n      }\n    }\n  ]\n}"
            }
          },
          "metadata": {},
          "execution_count": 3
        }
      ]
    },
    {
      "cell_type": "code",
      "source": [
        "unique_symptoms = []\n",
        "for symptoms in data['Symptom_List']:\n",
        "  symptom_list = eval(symptoms)\n",
        "  unique_symptoms.extend(symptom_list)\n",
        "unique_symptoms = sorted(set(unique_symptoms))\n",
        "#print(unique_symptoms)"
      ],
      "metadata": {
        "id": "Rp3YrujtVTue"
      },
      "execution_count": 4,
      "outputs": []
    },
    {
      "cell_type": "code",
      "source": [
        "print(len(unique_symptoms))"
      ],
      "metadata": {
        "colab": {
          "base_uri": "https://localhost:8080/"
        },
        "id": "fqJbXF2sV3Bz",
        "outputId": "8785b55d-a971-44be-d99f-cec194685909"
      },
      "execution_count": 5,
      "outputs": [
        {
          "output_type": "stream",
          "name": "stdout",
          "text": [
            "9681\n"
          ]
        }
      ]
    },
    {
      "cell_type": "code",
      "source": [
        "import spacy"
      ],
      "metadata": {
        "id": "yKBQ3tTycNfb"
      },
      "execution_count": 6,
      "outputs": []
    },
    {
      "cell_type": "code",
      "source": [
        "nlp = spacy.load(\"en_core_web_sm\")"
      ],
      "metadata": {
        "id": "K5EXI5S4cVs2"
      },
      "execution_count": 7,
      "outputs": []
    },
    {
      "cell_type": "code",
      "source": [
        "def tokenize(text):\n",
        "    doc = nlp(text)\n",
        "    return [token.lemma_ for token in doc if not token.is_stop and not token.is_punct]"
      ],
      "metadata": {
        "id": "4-LHqrn0fO_F"
      },
      "execution_count": 8,
      "outputs": []
    },
    {
      "cell_type": "code",
      "source": [
        "def calculate_similarity(input_tokens, symptom_tokens):\n",
        "    common_tokens = set(input_tokens) & set(symptom_tokens)\n",
        "    return len(common_tokens) / (len(set(input_tokens)) + len(set(symptom_tokens)) - len(common_tokens))"
      ],
      "metadata": {
        "id": "sq6D7HohfS44"
      },
      "execution_count": 9,
      "outputs": []
    },
    {
      "cell_type": "code",
      "source": [
        "def find_closest_symptoms(input_text, symptoms_list, top_n=5):\n",
        "    input_tokens = tokenize(input_text)\n",
        "    similarities = []\n",
        "    for symptom in symptoms_list:\n",
        "        symptom_tokens = tokenize(symptom)\n",
        "        similarity = calculate_similarity(input_tokens, symptom_tokens)\n",
        "        similarities.append((symptom, similarity))\n",
        "\n",
        "\n",
        "    closest_symptoms = sorted(similarities, key=lambda x: x[1], reverse=True)[:top_n]\n",
        "    return closest_symptoms\n"
      ],
      "metadata": {
        "id": "TXTKfa7UccpR"
      },
      "execution_count": 12,
      "outputs": []
    },
    {
      "cell_type": "code",
      "source": [
        "def process_paragraph(input_text, symptoms_list, top_n=5):\n",
        "    doc = nlp(input_text)\n",
        "    all_symptoms = []\n",
        "    for sent in doc.sents:\n",
        "        closest_symptoms = find_closest_symptoms(sent.text, symptoms_list, top_n=top_n)\n",
        "        all_symptoms.extend(closest_symptoms)\n",
        "\n",
        "    unique_symptoms = {symptom: score for symptom, score in all_symptoms}\n",
        "    sorted_symptoms = sorted(unique_symptoms.items(), key=lambda x: x[1], reverse=True)\n",
        "    return sorted_symptoms[:top_n]"
      ],
      "metadata": {
        "id": "mDpMcL2neCLf"
      },
      "execution_count": 13,
      "outputs": []
    },
    {
      "cell_type": "code",
      "source": [
        "input_paragraph = \"\"\"\n",
        "I've been noticing some unusual physical characteristics in myself, including a mildly sunken chest and undescended testicles.\n",
        "Additionally, I've been experiencing mild to moderate cognitive problems.\n",
        "I've also observed some distinct facial features, such as a belly button that sticks out, a top portion of the ear that's folded over slightly, and a small nose with nostrils tipped forward.\n",
        "I've also had delayed teeth and a scrotum that surrounds my penis, giving it a \"shawl scrotum\" appearance.\n",
        "\"\"\"\n",
        "\n",
        "closest_symptoms = process_paragraph(input_paragraph, unique_symptoms, top_n=5)\n",
        "print(\"Closest Symptoms:\")\n",
        "for symptom, similarity in closest_symptoms:\n",
        "    print(f\"{symptom}: {similarity:.4f}\")"
      ],
      "metadata": {
        "colab": {
          "base_uri": "https://localhost:8080/"
        },
        "id": "ilw4EGTieFvH",
        "outputId": "4697585c-934a-43c3-f8d8-45fa18c56af6"
      },
      "execution_count": 14,
      "outputs": [
        {
          "output_type": "stream",
          "name": "stdout",
          "text": [
            "Closest Symptoms:\n",
            " Mild to moderate cognitive problems : 0.5000\n",
            " Scrotum surrounds the penis (shawl scrotum) : 0.3636\n",
            " Small nose with nostrils tipped forward : 0.2778\n",
            "Mildly sunken chest (pectus excavatum) : 0.2308\n",
            " Mild-to-moderate dementia : 0.2222\n"
          ]
        }
      ]
    }
  ]
}